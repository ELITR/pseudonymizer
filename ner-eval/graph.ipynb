{
 "cells": [
  {
   "cell_type": "markdown",
   "id": "9ef9eec8",
   "metadata": {},
   "source": [
    "# Graphs\n",
    "\n",
    "## Requirements"
   ]
  },
  {
   "cell_type": "code",
   "execution_count": null,
   "id": "deb3d4a9",
   "metadata": {
    "scrolled": false
   },
   "outputs": [],
   "source": [
    "!pip install seaborn pandas pandas-profiling[notebook]"
   ]
  },
  {
   "cell_type": "code",
   "execution_count": 2,
   "id": "846dabfc",
   "metadata": {},
   "outputs": [],
   "source": [
    "import sys\n",
    "\n",
    "import matplotlib.pyplot as plt\n",
    "import pandas as pd\n",
    "import seaborn as sns\n",
    "from pandas_profiling import ProfileReport"
   ]
  },
  {
   "cell_type": "markdown",
   "id": "ca624c4d",
   "metadata": {},
   "source": [
    "## Data"
   ]
  },
  {
   "cell_type": "code",
   "execution_count": 3,
   "id": "e90eb96e",
   "metadata": {},
   "outputs": [
    {
     "data": {
      "text/plain": [
       "count     95.000000\n",
       "mean      69.642105\n",
       "std      119.203109\n",
       "min        2.000000\n",
       "25%       14.000000\n",
       "50%       32.000000\n",
       "75%       84.000000\n",
       "max      994.000000\n",
       "Name: features, dtype: float64"
      ]
     },
     "execution_count": 3,
     "metadata": {},
     "output_type": "execute_result"
    }
   ],
   "source": [
    "df = pd.read_csv(\"./dataset/out/summary.csv\")\n",
    "df[df[\"ner\"]==\"nametag\"][\"features\"].describe()"
   ]
  },
  {
   "cell_type": "code",
   "execution_count": 4,
   "id": "b8677bd0",
   "metadata": {},
   "outputs": [
    {
     "data": {
      "text/html": [
       "<div>\n",
       "<style scoped>\n",
       "    .dataframe tbody tr th:only-of-type {\n",
       "        vertical-align: middle;\n",
       "    }\n",
       "\n",
       "    .dataframe tbody tr th {\n",
       "        vertical-align: top;\n",
       "    }\n",
       "\n",
       "    .dataframe thead th {\n",
       "        text-align: right;\n",
       "    }\n",
       "</style>\n",
       "<table border=\"1\" class=\"dataframe\">\n",
       "  <thead>\n",
       "    <tr style=\"text-align: right;\">\n",
       "      <th></th>\n",
       "      <th>ner</th>\n",
       "      <th>nametag</th>\n",
       "      <th>nltk</th>\n",
       "      <th>spacy</th>\n",
       "    </tr>\n",
       "  </thead>\n",
       "  <tbody>\n",
       "    <tr>\n",
       "      <th rowspan=\"8\" valign=\"top\">exact</th>\n",
       "      <th>count</th>\n",
       "      <td>95.000000</td>\n",
       "      <td>95.000000</td>\n",
       "      <td>95.000000</td>\n",
       "    </tr>\n",
       "    <tr>\n",
       "      <th>mean</th>\n",
       "      <td>34.442105</td>\n",
       "      <td>29.884211</td>\n",
       "      <td>29.200000</td>\n",
       "    </tr>\n",
       "    <tr>\n",
       "      <th>std</th>\n",
       "      <td>66.092410</td>\n",
       "      <td>54.305453</td>\n",
       "      <td>40.655690</td>\n",
       "    </tr>\n",
       "    <tr>\n",
       "      <th>min</th>\n",
       "      <td>2.000000</td>\n",
       "      <td>0.000000</td>\n",
       "      <td>0.000000</td>\n",
       "    </tr>\n",
       "    <tr>\n",
       "      <th>25%</th>\n",
       "      <td>9.000000</td>\n",
       "      <td>6.000000</td>\n",
       "      <td>5.000000</td>\n",
       "    </tr>\n",
       "    <tr>\n",
       "      <th>50%</th>\n",
       "      <td>15.000000</td>\n",
       "      <td>12.000000</td>\n",
       "      <td>12.000000</td>\n",
       "    </tr>\n",
       "    <tr>\n",
       "      <th>75%</th>\n",
       "      <td>34.000000</td>\n",
       "      <td>37.000000</td>\n",
       "      <td>40.000000</td>\n",
       "    </tr>\n",
       "    <tr>\n",
       "      <th>max</th>\n",
       "      <td>592.000000</td>\n",
       "      <td>481.000000</td>\n",
       "      <td>220.000000</td>\n",
       "    </tr>\n",
       "    <tr>\n",
       "      <th rowspan=\"8\" valign=\"top\">inside</th>\n",
       "      <th>count</th>\n",
       "      <td>95.000000</td>\n",
       "      <td>95.000000</td>\n",
       "      <td>95.000000</td>\n",
       "    </tr>\n",
       "    <tr>\n",
       "      <th>mean</th>\n",
       "      <td>4.336842</td>\n",
       "      <td>1.894737</td>\n",
       "      <td>3.652632</td>\n",
       "    </tr>\n",
       "    <tr>\n",
       "      <th>std</th>\n",
       "      <td>17.072194</td>\n",
       "      <td>3.375360</td>\n",
       "      <td>5.048211</td>\n",
       "    </tr>\n",
       "    <tr>\n",
       "      <th>min</th>\n",
       "      <td>0.000000</td>\n",
       "      <td>0.000000</td>\n",
       "      <td>0.000000</td>\n",
       "    </tr>\n",
       "    <tr>\n",
       "      <th>25%</th>\n",
       "      <td>0.000000</td>\n",
       "      <td>0.000000</td>\n",
       "      <td>1.000000</td>\n",
       "    </tr>\n",
       "    <tr>\n",
       "      <th>50%</th>\n",
       "      <td>1.000000</td>\n",
       "      <td>1.000000</td>\n",
       "      <td>2.000000</td>\n",
       "    </tr>\n",
       "    <tr>\n",
       "      <th>75%</th>\n",
       "      <td>3.000000</td>\n",
       "      <td>2.000000</td>\n",
       "      <td>5.000000</td>\n",
       "    </tr>\n",
       "    <tr>\n",
       "      <th>max</th>\n",
       "      <td>164.000000</td>\n",
       "      <td>19.000000</td>\n",
       "      <td>34.000000</td>\n",
       "    </tr>\n",
       "    <tr>\n",
       "      <th rowspan=\"8\" valign=\"top\">partial</th>\n",
       "      <th>count</th>\n",
       "      <td>95.000000</td>\n",
       "      <td>95.000000</td>\n",
       "      <td>95.000000</td>\n",
       "    </tr>\n",
       "    <tr>\n",
       "      <th>mean</th>\n",
       "      <td>1.147368</td>\n",
       "      <td>1.084211</td>\n",
       "      <td>1.189474</td>\n",
       "    </tr>\n",
       "    <tr>\n",
       "      <th>std</th>\n",
       "      <td>1.804064</td>\n",
       "      <td>2.508128</td>\n",
       "      <td>1.746088</td>\n",
       "    </tr>\n",
       "    <tr>\n",
       "      <th>min</th>\n",
       "      <td>0.000000</td>\n",
       "      <td>0.000000</td>\n",
       "      <td>0.000000</td>\n",
       "    </tr>\n",
       "    <tr>\n",
       "      <th>25%</th>\n",
       "      <td>0.000000</td>\n",
       "      <td>0.000000</td>\n",
       "      <td>0.000000</td>\n",
       "    </tr>\n",
       "    <tr>\n",
       "      <th>50%</th>\n",
       "      <td>1.000000</td>\n",
       "      <td>0.000000</td>\n",
       "      <td>1.000000</td>\n",
       "    </tr>\n",
       "    <tr>\n",
       "      <th>75%</th>\n",
       "      <td>2.000000</td>\n",
       "      <td>1.000000</td>\n",
       "      <td>2.000000</td>\n",
       "    </tr>\n",
       "    <tr>\n",
       "      <th>max</th>\n",
       "      <td>10.000000</td>\n",
       "      <td>19.000000</td>\n",
       "      <td>8.000000</td>\n",
       "    </tr>\n",
       "    <tr>\n",
       "      <th rowspan=\"8\" valign=\"top\">lines</th>\n",
       "      <th>count</th>\n",
       "      <td>95.000000</td>\n",
       "      <td>95.000000</td>\n",
       "      <td>95.000000</td>\n",
       "    </tr>\n",
       "    <tr>\n",
       "      <th>mean</th>\n",
       "      <td>88.315789</td>\n",
       "      <td>44.263158</td>\n",
       "      <td>93.884211</td>\n",
       "    </tr>\n",
       "    <tr>\n",
       "      <th>std</th>\n",
       "      <td>178.744812</td>\n",
       "      <td>85.460481</td>\n",
       "      <td>119.043338</td>\n",
       "    </tr>\n",
       "    <tr>\n",
       "      <th>min</th>\n",
       "      <td>3.000000</td>\n",
       "      <td>1.000000</td>\n",
       "      <td>4.000000</td>\n",
       "    </tr>\n",
       "    <tr>\n",
       "      <th>25%</th>\n",
       "      <td>15.000000</td>\n",
       "      <td>9.000000</td>\n",
       "      <td>18.500000</td>\n",
       "    </tr>\n",
       "    <tr>\n",
       "      <th>50%</th>\n",
       "      <td>30.000000</td>\n",
       "      <td>19.000000</td>\n",
       "      <td>37.000000</td>\n",
       "    </tr>\n",
       "    <tr>\n",
       "      <th>75%</th>\n",
       "      <td>111.000000</td>\n",
       "      <td>55.500000</td>\n",
       "      <td>134.000000</td>\n",
       "    </tr>\n",
       "    <tr>\n",
       "      <th>max</th>\n",
       "      <td>1576.000000</td>\n",
       "      <td>772.000000</td>\n",
       "      <td>570.000000</td>\n",
       "    </tr>\n",
       "  </tbody>\n",
       "</table>\n",
       "</div>"
      ],
      "text/plain": [
       "ner                nametag        nltk       spacy\n",
       "exact   count    95.000000   95.000000   95.000000\n",
       "        mean     34.442105   29.884211   29.200000\n",
       "        std      66.092410   54.305453   40.655690\n",
       "        min       2.000000    0.000000    0.000000\n",
       "        25%       9.000000    6.000000    5.000000\n",
       "        50%      15.000000   12.000000   12.000000\n",
       "        75%      34.000000   37.000000   40.000000\n",
       "        max     592.000000  481.000000  220.000000\n",
       "inside  count    95.000000   95.000000   95.000000\n",
       "        mean      4.336842    1.894737    3.652632\n",
       "        std      17.072194    3.375360    5.048211\n",
       "        min       0.000000    0.000000    0.000000\n",
       "        25%       0.000000    0.000000    1.000000\n",
       "        50%       1.000000    1.000000    2.000000\n",
       "        75%       3.000000    2.000000    5.000000\n",
       "        max     164.000000   19.000000   34.000000\n",
       "partial count    95.000000   95.000000   95.000000\n",
       "        mean      1.147368    1.084211    1.189474\n",
       "        std       1.804064    2.508128    1.746088\n",
       "        min       0.000000    0.000000    0.000000\n",
       "        25%       0.000000    0.000000    0.000000\n",
       "        50%       1.000000    0.000000    1.000000\n",
       "        75%       2.000000    1.000000    2.000000\n",
       "        max      10.000000   19.000000    8.000000\n",
       "lines   count    95.000000   95.000000   95.000000\n",
       "        mean     88.315789   44.263158   93.884211\n",
       "        std     178.744812   85.460481  119.043338\n",
       "        min       3.000000    1.000000    4.000000\n",
       "        25%      15.000000    9.000000   18.500000\n",
       "        50%      30.000000   19.000000   37.000000\n",
       "        75%     111.000000   55.500000  134.000000\n",
       "        max    1576.000000  772.000000  570.000000"
      ]
     },
     "execution_count": 4,
     "metadata": {},
     "output_type": "execute_result"
    }
   ],
   "source": [
    "df.drop(columns=[\"test-name\", \"features\"]).groupby(\"ner\").describe().T"
   ]
  },
  {
   "cell_type": "code",
   "execution_count": 5,
   "id": "da7ed529",
   "metadata": {},
   "outputs": [
    {
     "data": {
      "text/html": [
       "<div>\n",
       "<style scoped>\n",
       "    .dataframe tbody tr th:only-of-type {\n",
       "        vertical-align: middle;\n",
       "    }\n",
       "\n",
       "    .dataframe tbody tr th {\n",
       "        vertical-align: top;\n",
       "    }\n",
       "\n",
       "    .dataframe thead th {\n",
       "        text-align: right;\n",
       "    }\n",
       "</style>\n",
       "<table border=\"1\" class=\"dataframe\">\n",
       "  <thead>\n",
       "    <tr style=\"text-align: right;\">\n",
       "      <th></th>\n",
       "      <th>features</th>\n",
       "      <th>exact</th>\n",
       "      <th>inside</th>\n",
       "      <th>partial</th>\n",
       "      <th>lines</th>\n",
       "    </tr>\n",
       "  </thead>\n",
       "  <tbody>\n",
       "    <tr>\n",
       "      <th>count</th>\n",
       "      <td>192.000000</td>\n",
       "      <td>192.000000</td>\n",
       "      <td>192.000000</td>\n",
       "      <td>192.000000</td>\n",
       "      <td>192.000000</td>\n",
       "    </tr>\n",
       "    <tr>\n",
       "      <th>mean</th>\n",
       "      <td>97.937500</td>\n",
       "      <td>43.625000</td>\n",
       "      <td>4.421875</td>\n",
       "      <td>1.593750</td>\n",
       "      <td>106.833333</td>\n",
       "    </tr>\n",
       "    <tr>\n",
       "      <th>std</th>\n",
       "      <td>136.038516</td>\n",
       "      <td>62.771463</td>\n",
       "      <td>12.590786</td>\n",
       "      <td>2.333809</td>\n",
       "      <td>154.869590</td>\n",
       "    </tr>\n",
       "    <tr>\n",
       "      <th>min</th>\n",
       "      <td>21.000000</td>\n",
       "      <td>3.000000</td>\n",
       "      <td>0.000000</td>\n",
       "      <td>0.000000</td>\n",
       "      <td>6.000000</td>\n",
       "    </tr>\n",
       "    <tr>\n",
       "      <th>25%</th>\n",
       "      <td>32.000000</td>\n",
       "      <td>14.000000</td>\n",
       "      <td>1.000000</td>\n",
       "      <td>0.000000</td>\n",
       "      <td>27.750000</td>\n",
       "    </tr>\n",
       "    <tr>\n",
       "      <th>50%</th>\n",
       "      <td>48.500000</td>\n",
       "      <td>24.500000</td>\n",
       "      <td>2.000000</td>\n",
       "      <td>1.000000</td>\n",
       "      <td>54.500000</td>\n",
       "    </tr>\n",
       "    <tr>\n",
       "      <th>75%</th>\n",
       "      <td>120.250000</td>\n",
       "      <td>55.000000</td>\n",
       "      <td>4.000000</td>\n",
       "      <td>2.000000</td>\n",
       "      <td>134.500000</td>\n",
       "    </tr>\n",
       "    <tr>\n",
       "      <th>max</th>\n",
       "      <td>994.000000</td>\n",
       "      <td>592.000000</td>\n",
       "      <td>164.000000</td>\n",
       "      <td>19.000000</td>\n",
       "      <td>1576.000000</td>\n",
       "    </tr>\n",
       "  </tbody>\n",
       "</table>\n",
       "</div>"
      ],
      "text/plain": [
       "         features       exact      inside     partial        lines\n",
       "count  192.000000  192.000000  192.000000  192.000000   192.000000\n",
       "mean    97.937500   43.625000    4.421875    1.593750   106.833333\n",
       "std    136.038516   62.771463   12.590786    2.333809   154.869590\n",
       "min     21.000000    3.000000    0.000000    0.000000     6.000000\n",
       "25%     32.000000   14.000000    1.000000    0.000000    27.750000\n",
       "50%     48.500000   24.500000    2.000000    1.000000    54.500000\n",
       "75%    120.250000   55.000000    4.000000    2.000000   134.500000\n",
       "max    994.000000  592.000000  164.000000   19.000000  1576.000000"
      ]
     },
     "execution_count": 5,
     "metadata": {},
     "output_type": "execute_result"
    }
   ],
   "source": [
    "min_feat = 20\n",
    "df[df[\"features\"] > min_feat].describe()"
   ]
  },
  {
   "cell_type": "markdown",
   "id": "841fb4b4",
   "metadata": {},
   "source": [
    "## Profile"
   ]
  },
  {
   "cell_type": "code",
   "execution_count": null,
   "id": "bac814e9",
   "metadata": {
    "scrolled": true
   },
   "outputs": [],
   "source": [
    "profile = ProfileReport(df)\n",
    "profile.to_notebook_iframe()"
   ]
  },
  {
   "cell_type": "markdown",
   "id": "78c20c80",
   "metadata": {},
   "source": [
    "## Recall\n",
    "$$ \\text{recall} = \\frac{\\text{TP}}{\\text{TP} + \\text{FP}} = \\frac{\\text{TP}}{\\text{Total actual positive}} $$\n"
   ]
  },
  {
   "cell_type": "code",
   "execution_count": 7,
   "id": "26131a0f",
   "metadata": {
    "scrolled": false
   },
   "outputs": [],
   "source": [
    "# Any match\n",
    "df['recall'] = (df['exact'] + df['inside'] + df['partial']) / df['features']\n",
    "# Exact match\n",
    "df['recall-exact'] = df['exact'] / df['features']"
   ]
  },
  {
   "cell_type": "code",
   "execution_count": 8,
   "id": "ad4eecaa",
   "metadata": {},
   "outputs": [
    {
     "data": {
      "text/html": [
       "<div>\n",
       "<style scoped>\n",
       "    .dataframe tbody tr th:only-of-type {\n",
       "        vertical-align: middle;\n",
       "    }\n",
       "\n",
       "    .dataframe tbody tr th {\n",
       "        vertical-align: top;\n",
       "    }\n",
       "\n",
       "    .dataframe thead tr th {\n",
       "        text-align: left;\n",
       "    }\n",
       "\n",
       "    .dataframe thead tr:last-of-type th {\n",
       "        text-align: right;\n",
       "    }\n",
       "</style>\n",
       "<table border=\"1\" class=\"dataframe\">\n",
       "  <thead>\n",
       "    <tr>\n",
       "      <th></th>\n",
       "      <th colspan=\"8\" halign=\"left\">recall</th>\n",
       "      <th colspan=\"8\" halign=\"left\">recall-exact</th>\n",
       "    </tr>\n",
       "    <tr>\n",
       "      <th></th>\n",
       "      <th>count</th>\n",
       "      <th>mean</th>\n",
       "      <th>std</th>\n",
       "      <th>min</th>\n",
       "      <th>25%</th>\n",
       "      <th>50%</th>\n",
       "      <th>75%</th>\n",
       "      <th>max</th>\n",
       "      <th>count</th>\n",
       "      <th>mean</th>\n",
       "      <th>std</th>\n",
       "      <th>min</th>\n",
       "      <th>25%</th>\n",
       "      <th>50%</th>\n",
       "      <th>75%</th>\n",
       "      <th>max</th>\n",
       "    </tr>\n",
       "    <tr>\n",
       "      <th>ner</th>\n",
       "      <th></th>\n",
       "      <th></th>\n",
       "      <th></th>\n",
       "      <th></th>\n",
       "      <th></th>\n",
       "      <th></th>\n",
       "      <th></th>\n",
       "      <th></th>\n",
       "      <th></th>\n",
       "      <th></th>\n",
       "      <th></th>\n",
       "      <th></th>\n",
       "      <th></th>\n",
       "      <th></th>\n",
       "      <th></th>\n",
       "      <th></th>\n",
       "    </tr>\n",
       "  </thead>\n",
       "  <tbody>\n",
       "    <tr>\n",
       "      <th>nametag</th>\n",
       "      <td>95.0</td>\n",
       "      <td>0.638274</td>\n",
       "      <td>0.182997</td>\n",
       "      <td>0.263158</td>\n",
       "      <td>0.500000</td>\n",
       "      <td>0.625000</td>\n",
       "      <td>0.779514</td>\n",
       "      <td>1.000000</td>\n",
       "      <td>95.0</td>\n",
       "      <td>0.554418</td>\n",
       "      <td>0.178720</td>\n",
       "      <td>0.2</td>\n",
       "      <td>0.415230</td>\n",
       "      <td>0.555556</td>\n",
       "      <td>0.689904</td>\n",
       "      <td>1.000000</td>\n",
       "    </tr>\n",
       "    <tr>\n",
       "      <th>nltk</th>\n",
       "      <td>95.0</td>\n",
       "      <td>0.517407</td>\n",
       "      <td>0.205464</td>\n",
       "      <td>0.090909</td>\n",
       "      <td>0.388007</td>\n",
       "      <td>0.533333</td>\n",
       "      <td>0.683300</td>\n",
       "      <td>0.954545</td>\n",
       "      <td>95.0</td>\n",
       "      <td>0.454355</td>\n",
       "      <td>0.193581</td>\n",
       "      <td>0.0</td>\n",
       "      <td>0.337398</td>\n",
       "      <td>0.476190</td>\n",
       "      <td>0.571429</td>\n",
       "      <td>0.870968</td>\n",
       "    </tr>\n",
       "    <tr>\n",
       "      <th>spacy</th>\n",
       "      <td>95.0</td>\n",
       "      <td>0.518511</td>\n",
       "      <td>0.177901</td>\n",
       "      <td>0.000000</td>\n",
       "      <td>0.384671</td>\n",
       "      <td>0.529412</td>\n",
       "      <td>0.637841</td>\n",
       "      <td>0.900000</td>\n",
       "      <td>95.0</td>\n",
       "      <td>0.404451</td>\n",
       "      <td>0.177104</td>\n",
       "      <td>0.0</td>\n",
       "      <td>0.276089</td>\n",
       "      <td>0.411765</td>\n",
       "      <td>0.526585</td>\n",
       "      <td>0.748428</td>\n",
       "    </tr>\n",
       "  </tbody>\n",
       "</table>\n",
       "</div>"
      ],
      "text/plain": [
       "        recall                                                              \\\n",
       "         count      mean       std       min       25%       50%       75%   \n",
       "ner                                                                          \n",
       "nametag   95.0  0.638274  0.182997  0.263158  0.500000  0.625000  0.779514   \n",
       "nltk      95.0  0.517407  0.205464  0.090909  0.388007  0.533333  0.683300   \n",
       "spacy     95.0  0.518511  0.177901  0.000000  0.384671  0.529412  0.637841   \n",
       "\n",
       "                  recall-exact                                               \\\n",
       "              max        count      mean       std  min       25%       50%   \n",
       "ner                                                                           \n",
       "nametag  1.000000         95.0  0.554418  0.178720  0.2  0.415230  0.555556   \n",
       "nltk     0.954545         95.0  0.454355  0.193581  0.0  0.337398  0.476190   \n",
       "spacy    0.900000         95.0  0.404451  0.177104  0.0  0.276089  0.411765   \n",
       "\n",
       "                             \n",
       "              75%       max  \n",
       "ner                          \n",
       "nametag  0.689904  1.000000  \n",
       "nltk     0.571429  0.870968  \n",
       "spacy    0.526585  0.748428  "
      ]
     },
     "execution_count": 8,
     "metadata": {},
     "output_type": "execute_result"
    }
   ],
   "source": [
    "df[[\"recall\", \"recall-exact\", \"ner\"]].groupby(\"ner\").describe()"
   ]
  },
  {
   "cell_type": "code",
   "execution_count": 9,
   "id": "a3ed5f11",
   "metadata": {},
   "outputs": [
    {
     "data": {
      "text/plain": [
       "Text(0.5, 1.0, 'Recall (exact match)')"
      ]
     },
     "execution_count": 9,
     "metadata": {},
     "output_type": "execute_result"
    },
    {
     "data": {
      "image/png": "[encoded data removed]",
      "text/plain": [
       "<Figure size 360x360 with 1 Axes>"
      ]
     },
     "metadata": {
      "needs_background": "light"
     },
     "output_type": "display_data"
    },
    {
     "data": {
      "image/png": "[encoded data removed]",
      "text/plain": [
       "<Figure size 360x360 with 1 Axes>"
      ]
     },
     "metadata": {
      "needs_background": "light"
     },
     "output_type": "display_data"
    }
   ],
   "source": [
    "sns.catplot(data=df[df[\"features\"] > min_feat], y=\"recall\", x=\"ner\")\n",
    "plt.title('Recall (any match)')\n",
    "sns.catplot(data=df[df[\"features\"] > min_feat], y=\"recall-exact\", x=\"ner\")\n",
    "plt.title('Recall (exact match)')"
   ]
  },
  {
   "cell_type": "code",
   "execution_count": 10,
   "id": "b5fc65b0",
   "metadata": {},
   "outputs": [
    {
     "data": {
      "text/plain": [
       "<seaborn.axisgrid.FacetGrid at 0x7fdb515ffda0>"
      ]
     },
     "execution_count": 10,
     "metadata": {},
     "output_type": "execute_result"
    },
    {
     "data": {
      "image/png": "[encoded data removed]",
      "text/plain": [
       "<Figure size 648x216 with 3 Axes>"
      ]
     },
     "metadata": {
      "needs_background": "light"
     },
     "output_type": "display_data"
    },
    {
     "data": {
      "image/png": "[encoded data removed]",
      "text/plain": [
       "<Figure size 648x216 with 3 Axes>"
      ]
     },
     "metadata": {
      "needs_background": "light"
     },
     "output_type": "display_data"
    }
   ],
   "source": [
    "g = sns.FacetGrid(df[df[\"features\"] > min_feat], col=\"ner\")\n",
    "g.map(sns.histplot, \"recall\")\n",
    "g = sns.FacetGrid(df[df[\"features\"] > min_feat], col=\"ner\")\n",
    "g.map(sns.histplot, \"recall-exact\")"
   ]
  },
  {
   "cell_type": "code",
   "execution_count": 11,
   "id": "82133a4d",
   "metadata": {},
   "outputs": [
    {
     "data": {
      "text/plain": [
       "<AxesSubplot:title={'center':'Recall (weighted)'}, xlabel='ner', ylabel='recall'>"
      ]
     },
     "execution_count": 11,
     "metadata": {},
     "output_type": "execute_result"
    },
    {
     "data": {
      "image/png": "[encoded data removed]",
      "text/plain": [
       "<Figure size 1800x288 with 5 Axes>"
      ]
     },
     "metadata": {
      "needs_background": "light"
     },
     "output_type": "display_data"
    }
   ],
   "source": [
    "fig, axs = plt.subplots(ncols=5, figsize=(25,4), sharey=True)\n",
    "axs[0].set_title('Recall (any match)')\n",
    "sns.boxplot(data=df, x=\"ner\", y=\"recall\", ax=axs[0])\n",
    "axs[1].set_title(f\"Recall (feat > {min_feat}) (any match)\")\n",
    "sns.boxplot(data=df[df[\"features\"] > min_feat], x=\"ner\", y=\"recall\", ax=axs[1])\n",
    "axs[2].set_title('Recall (exact match)')\n",
    "sns.boxplot(data=df, x=\"ner\", y=\"recall-exact\", ax=axs[2])\n",
    "axs[3].set_title(f\"Recall (feat > {min_feat}) (exact match)\")\n",
    "sns.boxplot(data=df[df[\"features\"] > min_feat], x=\"ner\", y=\"recall-exact\", ax=axs[3])\n",
    "\n",
    "def reindex_df(df, weights):\n",
    "    \"\"\"expand the dataframe to prepare for resampling\n",
    "    result is 1 row per count per sample\"\"\"\n",
    "    df = df.reindex(df.index.repeat(weights))\n",
    "    df.reset_index(drop=True, inplace=True)\n",
    "    return(df)\n",
    "axs[4].set_title(f\"Recall (weighted)\")\n",
    "sns.boxplot(data=reindex_df(df, df[\"features\"]), x=\"ner\", y=\"recall\", ax=axs[4])"
   ]
  },
  {
   "cell_type": "markdown",
   "id": "4ec0f3ea",
   "metadata": {},
   "source": [
    "### Full data"
   ]
  },
  {
   "cell_type": "code",
   "execution_count": 12,
   "id": "1803c765",
   "metadata": {},
   "outputs": [
    {
     "data": {
      "text/plain": [
       "<AxesSubplot:xlabel='recall', ylabel='Count'>"
      ]
     },
     "execution_count": 12,
     "metadata": {},
     "output_type": "execute_result"
    },
    {
     "data": {
      "image/png": "[encoded data removed]",
      "text/plain": [
       "<Figure size 432x288 with 1 Axes>"
      ]
     },
     "metadata": {
      "needs_background": "light"
     },
     "output_type": "display_data"
    }
   ],
   "source": [
    "sns.histplot(kde=True, data=df, x=\"recall\", hue=\"ner\")"
   ]
  },
  {
   "cell_type": "markdown",
   "id": "bbba54e2",
   "metadata": {},
   "source": [
    "### Filtered data"
   ]
  },
  {
   "cell_type": "code",
   "execution_count": 13,
   "id": "d634755d",
   "metadata": {
    "scrolled": true
   },
   "outputs": [
    {
     "data": {
      "text/plain": [
       "<AxesSubplot:xlabel='recall', ylabel='Count'>"
      ]
     },
     "execution_count": 13,
     "metadata": {},
     "output_type": "execute_result"
    },
    {
     "data": {
      "image/png": "[encoded data removed]",
      "text/plain": [
       "<Figure size 432x288 with 1 Axes>"
      ]
     },
     "metadata": {
      "needs_background": "light"
     },
     "output_type": "display_data"
    }
   ],
   "source": [
    "sns.histplot(kde=True, data=df[df[\"features\"] > min_feat], x=\"recall\", hue=\"ner\")"
   ]
  },
  {
   "cell_type": "code",
   "execution_count": 14,
   "id": "bef4c8a9",
   "metadata": {},
   "outputs": [
    {
     "data": {
      "text/plain": [
       "<AxesSubplot:xlabel='recall', ylabel='Proportion'>"
      ]
     },
     "execution_count": 14,
     "metadata": {},
     "output_type": "execute_result"
    },
    {
     "data": {
      "image/png": "[encoded data removed]",
      "text/plain": [
       "<Figure size 432x288 with 1 Axes>"
      ]
     },
     "metadata": {
      "needs_background": "light"
     },
     "output_type": "display_data"
    }
   ],
   "source": [
    "sns.ecdfplot(df[df[\"features\"] > min_feat], x=\"recall\", hue=\"ner\", weights=df[df[\"features\"] > min_feat][\"features\"])"
   ]
  },
  {
   "cell_type": "markdown",
   "id": "5860e225",
   "metadata": {},
   "source": [
    "## Precision\n",
    "\n",
    "$$ \\text{precision} = \\frac{\\text{TP}}{\\text{TP} + \\text{FP}} = \\frac{\\text{TP}}{\\text{Total predicted posititive}} $$\n"
   ]
  },
  {
   "cell_type": "code",
   "execution_count": 15,
   "id": "e2822298",
   "metadata": {},
   "outputs": [],
   "source": [
    "df['prec'] = (df['exact'] + df['inside'] + df['partial']) / df['lines']"
   ]
  },
  {
   "cell_type": "code",
   "execution_count": 16,
   "id": "34b4e60f",
   "metadata": {},
   "outputs": [
    {
     "data": {
      "text/html": [
       "<div>\n",
       "<style scoped>\n",
       "    .dataframe tbody tr th:only-of-type {\n",
       "        vertical-align: middle;\n",
       "    }\n",
       "\n",
       "    .dataframe tbody tr th {\n",
       "        vertical-align: top;\n",
       "    }\n",
       "\n",
       "    .dataframe thead th {\n",
       "        text-align: right;\n",
       "    }\n",
       "</style>\n",
       "<table border=\"1\" class=\"dataframe\">\n",
       "  <thead>\n",
       "    <tr style=\"text-align: right;\">\n",
       "      <th></th>\n",
       "      <th>features</th>\n",
       "      <th>exact</th>\n",
       "      <th>inside</th>\n",
       "      <th>partial</th>\n",
       "      <th>lines</th>\n",
       "      <th>recall</th>\n",
       "      <th>recall-exact</th>\n",
       "      <th>prec</th>\n",
       "    </tr>\n",
       "  </thead>\n",
       "  <tbody>\n",
       "    <tr>\n",
       "      <th>count</th>\n",
       "      <td>285.000000</td>\n",
       "      <td>285.000000</td>\n",
       "      <td>285.000000</td>\n",
       "      <td>285.000000</td>\n",
       "      <td>285.000000</td>\n",
       "      <td>285.000000</td>\n",
       "      <td>285.000000</td>\n",
       "      <td>285.000000</td>\n",
       "    </tr>\n",
       "    <tr>\n",
       "      <th>mean</th>\n",
       "      <td>69.642105</td>\n",
       "      <td>31.175439</td>\n",
       "      <td>3.294737</td>\n",
       "      <td>1.140351</td>\n",
       "      <td>75.487719</td>\n",
       "      <td>0.558064</td>\n",
       "      <td>0.471075</td>\n",
       "      <td>0.601993</td>\n",
       "    </tr>\n",
       "    <tr>\n",
       "      <th>std</th>\n",
       "      <td>118.782638</td>\n",
       "      <td>54.538371</td>\n",
       "      <td>10.475532</td>\n",
       "      <td>2.042149</td>\n",
       "      <td>134.822669</td>\n",
       "      <td>0.196877</td>\n",
       "      <td>0.193025</td>\n",
       "      <td>0.246997</td>\n",
       "    </tr>\n",
       "    <tr>\n",
       "      <th>min</th>\n",
       "      <td>2.000000</td>\n",
       "      <td>0.000000</td>\n",
       "      <td>0.000000</td>\n",
       "      <td>0.000000</td>\n",
       "      <td>1.000000</td>\n",
       "      <td>0.000000</td>\n",
       "      <td>0.000000</td>\n",
       "      <td>0.000000</td>\n",
       "    </tr>\n",
       "    <tr>\n",
       "      <th>25%</th>\n",
       "      <td>14.000000</td>\n",
       "      <td>7.000000</td>\n",
       "      <td>0.000000</td>\n",
       "      <td>0.000000</td>\n",
       "      <td>13.000000</td>\n",
       "      <td>0.428571</td>\n",
       "      <td>0.333333</td>\n",
       "      <td>0.407407</td>\n",
       "    </tr>\n",
       "    <tr>\n",
       "      <th>50%</th>\n",
       "      <td>32.000000</td>\n",
       "      <td>14.000000</td>\n",
       "      <td>1.000000</td>\n",
       "      <td>0.000000</td>\n",
       "      <td>28.000000</td>\n",
       "      <td>0.555556</td>\n",
       "      <td>0.485915</td>\n",
       "      <td>0.603604</td>\n",
       "    </tr>\n",
       "    <tr>\n",
       "      <th>75%</th>\n",
       "      <td>85.000000</td>\n",
       "      <td>37.000000</td>\n",
       "      <td>3.000000</td>\n",
       "      <td>1.000000</td>\n",
       "      <td>91.000000</td>\n",
       "      <td>0.694444</td>\n",
       "      <td>0.591549</td>\n",
       "      <td>0.790323</td>\n",
       "    </tr>\n",
       "    <tr>\n",
       "      <th>max</th>\n",
       "      <td>994.000000</td>\n",
       "      <td>592.000000</td>\n",
       "      <td>164.000000</td>\n",
       "      <td>19.000000</td>\n",
       "      <td>1576.000000</td>\n",
       "      <td>1.000000</td>\n",
       "      <td>1.000000</td>\n",
       "      <td>1.200000</td>\n",
       "    </tr>\n",
       "  </tbody>\n",
       "</table>\n",
       "</div>"
      ],
      "text/plain": [
       "         features       exact      inside     partial        lines  \\\n",
       "count  285.000000  285.000000  285.000000  285.000000   285.000000   \n",
       "mean    69.642105   31.175439    3.294737    1.140351    75.487719   \n",
       "std    118.782638   54.538371   10.475532    2.042149   134.822669   \n",
       "min      2.000000    0.000000    0.000000    0.000000     1.000000   \n",
       "25%     14.000000    7.000000    0.000000    0.000000    13.000000   \n",
       "50%     32.000000   14.000000    1.000000    0.000000    28.000000   \n",
       "75%     85.000000   37.000000    3.000000    1.000000    91.000000   \n",
       "max    994.000000  592.000000  164.000000   19.000000  1576.000000   \n",
       "\n",
       "           recall  recall-exact        prec  \n",
       "count  285.000000    285.000000  285.000000  \n",
       "mean     0.558064      0.471075    0.601993  \n",
       "std      0.196877      0.193025    0.246997  \n",
       "min      0.000000      0.000000    0.000000  \n",
       "25%      0.428571      0.333333    0.407407  \n",
       "50%      0.555556      0.485915    0.603604  \n",
       "75%      0.694444      0.591549    0.790323  \n",
       "max      1.000000      1.000000    1.200000  "
      ]
     },
     "execution_count": 16,
     "metadata": {},
     "output_type": "execute_result"
    }
   ],
   "source": [
    "df.describe()"
   ]
  },
  {
   "cell_type": "code",
   "execution_count": 17,
   "id": "06aeb2eb",
   "metadata": {},
   "outputs": [
    {
     "data": {
      "text/plain": [
       "<AxesSubplot:title={'center':'Precision (weighted)'}, xlabel='ner', ylabel='prec'>"
      ]
     },
     "execution_count": 17,
     "metadata": {},
     "output_type": "execute_result"
    },
    {
     "data": {
      "image/png": "[encoded data removed]",
      "text/plain": [
       "<Figure size 1080x288 with 3 Axes>"
      ]
     },
     "metadata": {
      "needs_background": "light"
     },
     "output_type": "display_data"
    }
   ],
   "source": [
    "fig, axs = plt.subplots(ncols=3, figsize=(15,4), sharey=True)\n",
    "axs[0].set_title('Precision (any match)')\n",
    "sns.boxplot(data=df, x=\"ner\", y=\"prec\", ax=axs[0])\n",
    "axs[1].set_title(f\"Precision (feat > {min_feat}) (any match)\")\n",
    "sns.boxplot(data=df[df[\"features\"] > min_feat], x=\"ner\", y=\"prec\", ax=axs[1])\n",
    "\n",
    "def reindex_df(df, weights):\n",
    "    \"\"\"expand the dataframe to prepare for resampling\n",
    "    result is 1 row per count per sample\"\"\"\n",
    "    df = df.reindex(df.index.repeat(weights))\n",
    "    df.reset_index(drop=True, inplace=True)\n",
    "    return(df)\n",
    "axs[2].set_title(f\"Precision (weighted)\")\n",
    "sns.boxplot(data=reindex_df(df, df[\"features\"]), x=\"ner\", y=\"prec\", ax=axs[2])"
   ]
  },
  {
   "cell_type": "markdown",
   "id": "bee45453",
   "metadata": {},
   "source": [
    "## Summary\n"
   ]
  },
  {
   "cell_type": "code",
   "execution_count": 18,
   "id": "ae3b78a3",
   "metadata": {},
   "outputs": [
    {
     "data": {
      "text/html": [
       "<div>\n",
       "<style scoped>\n",
       "    .dataframe tbody tr th:only-of-type {\n",
       "        vertical-align: middle;\n",
       "    }\n",
       "\n",
       "    .dataframe tbody tr th {\n",
       "        vertical-align: top;\n",
       "    }\n",
       "\n",
       "    .dataframe thead th {\n",
       "        text-align: right;\n",
       "    }\n",
       "</style>\n",
       "<table border=\"1\" class=\"dataframe\">\n",
       "  <thead>\n",
       "    <tr style=\"text-align: right;\">\n",
       "      <th></th>\n",
       "      <th>ner</th>\n",
       "      <th>features</th>\n",
       "      <th>exact</th>\n",
       "      <th>inside</th>\n",
       "      <th>partial</th>\n",
       "      <th>lines</th>\n",
       "      <th>recall</th>\n",
       "      <th>recall-exact</th>\n",
       "      <th>prec</th>\n",
       "      <th>f1</th>\n",
       "    </tr>\n",
       "  </thead>\n",
       "  <tbody>\n",
       "    <tr>\n",
       "      <th>0</th>\n",
       "      <td>nametag</td>\n",
       "      <td>6616</td>\n",
       "      <td>3272</td>\n",
       "      <td>412</td>\n",
       "      <td>109</td>\n",
       "      <td>8390</td>\n",
       "      <td>0.573307</td>\n",
       "      <td>52.669729</td>\n",
       "      <td>0.452086</td>\n",
       "      <td>0.505531</td>\n",
       "    </tr>\n",
       "    <tr>\n",
       "      <th>1</th>\n",
       "      <td>nltk</td>\n",
       "      <td>6616</td>\n",
       "      <td>2839</td>\n",
       "      <td>180</td>\n",
       "      <td>103</td>\n",
       "      <td>4205</td>\n",
       "      <td>0.471886</td>\n",
       "      <td>43.163744</td>\n",
       "      <td>0.742449</td>\n",
       "      <td>0.577026</td>\n",
       "    </tr>\n",
       "    <tr>\n",
       "      <th>2</th>\n",
       "      <td>spacy</td>\n",
       "      <td>6616</td>\n",
       "      <td>2774</td>\n",
       "      <td>347</td>\n",
       "      <td>113</td>\n",
       "      <td>8919</td>\n",
       "      <td>0.488815</td>\n",
       "      <td>38.422850</td>\n",
       "      <td>0.362597</td>\n",
       "      <td>0.416350</td>\n",
       "    </tr>\n",
       "  </tbody>\n",
       "</table>\n",
       "</div>"
      ],
      "text/plain": [
       "       ner  features  exact  inside  partial  lines    recall  recall-exact  \\\n",
       "0  nametag      6616   3272     412      109   8390  0.573307     52.669729   \n",
       "1     nltk      6616   2839     180      103   4205  0.471886     43.163744   \n",
       "2    spacy      6616   2774     347      113   8919  0.488815     38.422850   \n",
       "\n",
       "       prec        f1  \n",
       "0  0.452086  0.505531  \n",
       "1  0.742449  0.577026  \n",
       "2  0.362597  0.416350  "
      ]
     },
     "execution_count": 18,
     "metadata": {},
     "output_type": "execute_result"
    }
   ],
   "source": [
    "summary = df.groupby(\"ner\", as_index=False).sum()\n",
    "summary[\"recall\"] = (summary[\"exact\"] + summary[\"inside\"] + summary[\"partial\"] )/ summary[\"features\"]\n",
    "summary[\"prec\"] = (summary[\"exact\"] + summary[\"inside\"] + summary[\"partial\"] )/ summary[\"lines\"]\n",
    "summary[\"f1\"] = 2 * (summary[\"prec\"] * summary[\"recall\"]) / (summary[\"prec\"] + summary[\"recall\"])\n",
    "summary"
   ]
  },
  {
   "cell_type": "code",
   "execution_count": 19,
   "id": "0d439c9c",
   "metadata": {},
   "outputs": [
    {
     "data": {
      "text/plain": [
       "<AxesSubplot:title={'center':'f1'}, xlabel='ner', ylabel='f1'>"
      ]
     },
     "execution_count": 19,
     "metadata": {},
     "output_type": "execute_result"
    },
    {
     "data": {
      "image/png": "[encoded data removed]",
      "text/plain": [
       "<Figure size 1080x288 with 3 Axes>"
      ]
     },
     "metadata": {
      "needs_background": "light"
     },
     "output_type": "display_data"
    }
   ],
   "source": [
    "fig, axs = plt.subplots(ncols=3, figsize=(15,4), sharey=True)\n",
    "axs[0].set_title('Recall')\n",
    "sns.barplot(data=summary, x=\"ner\", y=\"recall\", ax=axs[0])\n",
    "axs[1].set_title(f\"Precision\")\n",
    "sns.barplot(data=summary, x=\"ner\", y=\"prec\", ax=axs[1])\n",
    "axs[2].set_title('f1')\n",
    "sns.barplot(data=summary, x=\"ner\", y=\"f1\", ax=axs[2])"
   ]
  },
  {
   "cell_type": "markdown",
   "id": "3c88cfb4",
   "metadata": {},
   "source": [
    "### Tokenization"
   ]
  },
  {
   "cell_type": "code",
   "execution_count": 20,
   "id": "20e67074",
   "metadata": {},
   "outputs": [
    {
     "data": {
      "text/html": [
       "<div>\n",
       "<style scoped>\n",
       "    .dataframe tbody tr th:only-of-type {\n",
       "        vertical-align: middle;\n",
       "    }\n",
       "\n",
       "    .dataframe tbody tr th {\n",
       "        vertical-align: top;\n",
       "    }\n",
       "\n",
       "    .dataframe thead th {\n",
       "        text-align: right;\n",
       "    }\n",
       "</style>\n",
       "<table border=\"1\" class=\"dataframe\">\n",
       "  <thead>\n",
       "    <tr style=\"text-align: right;\">\n",
       "      <th></th>\n",
       "      <th>ner</th>\n",
       "      <th>exact</th>\n",
       "      <th>inside</th>\n",
       "      <th>partial</th>\n",
       "      <th>missing</th>\n",
       "    </tr>\n",
       "  </thead>\n",
       "  <tbody>\n",
       "    <tr>\n",
       "      <th>0</th>\n",
       "      <td>nametag</td>\n",
       "      <td>3272</td>\n",
       "      <td>412</td>\n",
       "      <td>109</td>\n",
       "      <td>2823</td>\n",
       "    </tr>\n",
       "    <tr>\n",
       "      <th>1</th>\n",
       "      <td>nltk</td>\n",
       "      <td>2839</td>\n",
       "      <td>180</td>\n",
       "      <td>103</td>\n",
       "      <td>3494</td>\n",
       "    </tr>\n",
       "    <tr>\n",
       "      <th>2</th>\n",
       "      <td>spacy</td>\n",
       "      <td>2774</td>\n",
       "      <td>347</td>\n",
       "      <td>113</td>\n",
       "      <td>3382</td>\n",
       "    </tr>\n",
       "  </tbody>\n",
       "</table>\n",
       "</div>"
      ],
      "text/plain": [
       "       ner  exact  inside  partial  missing\n",
       "0  nametag   3272     412      109     2823\n",
       "1     nltk   2839     180      103     3494\n",
       "2    spacy   2774     347      113     3382"
      ]
     },
     "execution_count": 20,
     "metadata": {},
     "output_type": "execute_result"
    }
   ],
   "source": [
    "summary[\"missing\"] = summary[\"features\"] - (summary[\"exact\"] + summary[\"inside\"] + summary[\"partial\"])\n",
    "summary[[\"ner\", \"exact\", \"inside\", \"partial\", \"missing\"]]"
   ]
  },
  {
   "cell_type": "code",
   "execution_count": 21,
   "id": "e1052599",
   "metadata": {},
   "outputs": [
    {
     "data": {
      "text/plain": [
       "array([<AxesSubplot:ylabel='nametag'>, <AxesSubplot:ylabel='nltk'>,\n",
       "       <AxesSubplot:ylabel='spacy'>], dtype=object)"
      ]
     },
     "execution_count": 21,
     "metadata": {},
     "output_type": "execute_result"
    },
    {
     "data": {
      "image/png": "[encoded data removed]",
      "text/plain": [
       "<Figure size 1080x288 with 3 Axes>"
      ]
     },
     "metadata": {},
     "output_type": "display_data"
    }
   ],
   "source": [
    "rows = summary.shape[0]\n",
    "summary.set_index(\"ner\")[[\"exact\", \"inside\", \"partial\", \"missing\"]].T.plot.pie(subplots=True, figsize=[5*rows,4], legend=False)"
   ]
  },
  {
   "cell_type": "code",
   "execution_count": null,
   "id": "91977f49",
   "metadata": {},
   "outputs": [],
   "source": []
  }
 ],
 "metadata": {
  "kernelspec": {
   "display_name": "Python 3",
   "language": "python",
   "name": "python3"
  },
  "language_info": {
   "codemirror_mode": {
    "name": "ipython",
    "version": 3
   },
   "file_extension": ".py",
   "mimetype": "text/x-python",
   "name": "python",
   "nbconvert_exporter": "python",
   "pygments_lexer": "ipython3",
   "version": "3.6.12"
  }
 },
 "nbformat": 4,
 "nbformat_minor": 5
}
